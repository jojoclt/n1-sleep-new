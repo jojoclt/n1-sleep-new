{
 "cells": [
  {
   "cell_type": "code",
   "execution_count": 1,
   "metadata": {},
   "outputs": [],
   "source": [
    "import numpy as np\n",
    "import pandas as pd"
   ]
  },
  {
   "cell_type": "code",
   "execution_count": 2,
   "metadata": {},
   "outputs": [
    {
     "name": "stdout",
     "output_type": "stream",
     "text": [
      "plot_30_EEG_25-300-1500_EEG2_20-500-1500_EOG_120-2500-2500/\n",
      "0/150\r"
     ]
    }
   ],
   "source": [
    "import pyedflib # ref: https://pyedflib.readthedocs.io/en/latest/\n",
    "import pandas as pd\n",
    "import numpy as np\n",
    "import os\n",
    "from datetime import timedelta\n",
    "import matplotlib.pyplot as plt\n",
    "import seaborn as sns\n",
    "import fnmatch\n",
    "from modules import *\n",
    "from tqdm import tqdm\n",
    "import logging\n",
    "\n",
    "# the format of plot will be THRES/CONSEC/TOTAL_SIZZE\n",
    "EEG_THRES = 25\n",
    "EEG_CONSEC = 300\n",
    "EEG_TOTAL_SIZE = 1500\n",
    "\n",
    "EEG2_THRES = 20\n",
    "EEG2_CONSEC = 500\n",
    "EEG2_TOTAL_SIZE = 1500\n",
    "\n",
    "EOG_THRES = 120\n",
    "EOG_CONSEC = 2500\n",
    "EOG_TOTAL_SIZE = 2500\n",
    "extend = 30 \n",
    "\n",
    "def reprval(text):\n",
    "    thres = eval(f\"{text}_THRES\")\n",
    "    consec = eval(f\"{text}_CONSEC\")\n",
    "    total_size = eval(f\"{text}_TOTAL_SIZE\")\n",
    "    return f\"{text}_{thres}-{consec}-{total_size}\"\n",
    "\n",
    "read_folder = f'./clips_front_extend_{extend}/'\n",
    "write_folder = f'plot_{extend}_{reprval(\"EEG\")}_{reprval(\"EEG2\")}_{reprval(\"EOG\")}/'\n",
    "\n",
    "# logging.basicConfig(filename=write_folder+'print.log', encoding='utf-8', level=logging.DEBUG)\n",
    "print(write_folder)\n",
    "\n",
    "os.makedirs(write_folder, exist_ok=True)\n",
    "pattern1 = '*-PSG.edf'\n",
    "pattern2 = '*-Hypnogram.edf'\n",
    "\n",
    "psg_list = sorted([f for f in os.listdir(read_folder) if fnmatch.fnmatch(f, pattern1)])\n",
    "hypnogram_list = sorted([f for f in os.listdir(read_folder) if fnmatch.fnmatch(f, pattern2)])\n",
    "psg_iter = iter(psg_list)\n",
    "hypnogram_iter = iter(hypnogram_list)\n",
    "\n",
    "channels = ['EEG Fpz-Cz', 'EEG Pz-Oz', 'EOG horizontal']\n",
    "channel = channels[1]\n",
    "\n",
    "for i, (psg_id, hypnogram_id) in enumerate(zip(psg_iter, hypnogram_iter)):\n",
    "    print(f\"{i}/{len(psg_list)}\", end=\"\\r\")\n",
    "    signal_path = os.path.join(read_folder, psg_id)\n",
    "    label_path = os.path.join(read_folder, hypnogram_id)\n",
    "    edf_signal = pyedflib.EdfReader(signal_path)\n",
    "    edf_label = pyedflib.EdfReader(label_path)\n",
    "    annotations = edf_label.readAnnotations()\n",
    "    start = edf_signal.getStartdatetime()\n",
    "    signals, frequencies = edf_signal.getSignalLabels(), edf_signal.getSampleFrequencies()\n",
    "    \n",
    "    data = []\n",
    "    for ch_idx, sig_name, freq in zip( range(len(signals)), signals, frequencies,):\n",
    "        sig = edf_signal.readSignal(chn=ch_idx)\n",
    "        idx = pd.date_range(  start=start, periods=len(sig), freq=pd.Timedelta(1 / freq, unit=\"s\") )\n",
    "        data += [pd.Series(sig, index=idx, name=sig_name)]\n",
    "    \n",
    "    # create DataFrames\n",
    "    annotations_df = pd.DataFrame(annotations)\n",
    "    annotations_df = annotations_df.T\n",
    "    annotations_df.rename(columns={0: \"Onset\", 1: \"Duration\", 2:\"Annotations\"}, inplace=True)\n",
    "    signal_df =pd.concat(data[0:3], axis=1)\n",
    "    \n",
    "    break"
   ]
  },
  {
   "cell_type": "code",
   "execution_count": 9,
   "metadata": {},
   "outputs": [
    {
     "data": {
      "text/plain": [
       "True"
      ]
     },
     "execution_count": 9,
     "metadata": {},
     "output_type": "execute_result"
    }
   ],
   "source": [
    "signal_df.index[1] > signal_df.index[0]"
   ]
  },
  {
   "cell_type": "code",
   "execution_count": 11,
   "metadata": {},
   "outputs": [
    {
     "data": {
      "text/plain": [
       "Timestamp('1989-04-25 00:33:30.010000')"
      ]
     },
     "execution_count": 11,
     "metadata": {},
     "output_type": "execute_result"
    }
   ],
   "source": [
    "signal_df.index[1]"
   ]
  },
  {
   "cell_type": "code",
   "execution_count": 20,
   "metadata": {},
   "outputs": [],
   "source": [
    "s = signal_df.index[1] - pd.Timedelta(minutes=1)\n",
    "e = signal_df.index[1] + pd.Timedelta(minutes=1)"
   ]
  },
  {
   "cell_type": "code",
   "execution_count": 27,
   "metadata": {},
   "outputs": [],
   "source": [
    "gogo = pd.Series(np.zeros(len(signal_df)), index=signal_df.index)"
   ]
  },
  {
   "cell_type": "code",
   "execution_count": 34,
   "metadata": {},
   "outputs": [],
   "source": [
    "gogo.loc[s:e] = True"
   ]
  },
  {
   "cell_type": "code",
   "execution_count": 32,
   "metadata": {},
   "outputs": [
    {
     "data": {
      "text/plain": [
       "1989-04-25 00:33:30.000    True\n",
       "1989-04-25 00:33:30.010    True\n",
       "1989-04-25 00:33:30.020    True\n",
       "1989-04-25 00:33:30.030    True\n",
       "1989-04-25 00:33:30.040    True\n",
       "                           ... \n",
       "1989-04-25 00:34:29.970    True\n",
       "1989-04-25 00:34:29.980    True\n",
       "1989-04-25 00:34:29.990    True\n",
       "1989-04-25 00:34:30.000    True\n",
       "1989-04-25 00:34:30.010    True\n",
       "Freq: 10L, Length: 6002, dtype: object"
      ]
     },
     "execution_count": 32,
     "metadata": {},
     "output_type": "execute_result"
    }
   ],
   "source": [
    "gogo.loc[s:e]"
   ]
  },
  {
   "cell_type": "code",
   "execution_count": null,
   "metadata": {},
   "outputs": [],
   "source": []
  }
 ],
 "metadata": {
  "kernelspec": {
   "display_name": "sleep-linear",
   "language": "python",
   "name": "python3"
  },
  "language_info": {
   "codemirror_mode": {
    "name": "ipython",
    "version": 3
   },
   "file_extension": ".py",
   "mimetype": "text/x-python",
   "name": "python",
   "nbconvert_exporter": "python",
   "pygments_lexer": "ipython3",
   "version": "3.9.16"
  }
 },
 "nbformat": 4,
 "nbformat_minor": 2
}
